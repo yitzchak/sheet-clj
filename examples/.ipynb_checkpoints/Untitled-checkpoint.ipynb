{
 "cells": [
  {
   "cell_type": "code",
   "execution_count": 2,
   "metadata": {},
   "outputs": [
    {
     "name": "stdout",
     "output_type": "stream",
     "text": [
      "To load \"sheet-clj\":\n",
      "  Load 1 ASDF system:\n",
      "    sheet-clj\n"
     ]
    },
    {
     "data": {
      "text/plain": [
       "(:SHEET-CLJ)"
      ]
     },
     "execution_count": 2,
     "metadata": {},
     "output_type": "execute_result"
    },
    {
     "name": "stdout",
     "output_type": "stream",
     "text": [
      "\n",
      "; Loading \"sheet-clj\"\n",
      "\n"
     ]
    }
   ],
   "source": [
    "(ql:quickload :sheet-clj)"
   ]
  },
  {
   "cell_type": "code",
   "execution_count": 7,
   "metadata": {},
   "outputs": [
    {
     "data": {
      "text/plain": [
       "MATRIX"
      ]
     },
     "execution_count": 7,
     "metadata": {},
     "output_type": "execute_result"
    },
    {
     "data": {
      "text/plain": [
       "COLUMN-VECTOR"
      ]
     },
     "execution_count": 7,
     "metadata": {},
     "output_type": "execute_result"
    },
    {
     "data": {
      "text/plain": [
       "S"
      ]
     },
     "execution_count": 7,
     "metadata": {},
     "output_type": "execute_result"
    },
    {
     "data": {
      "application/vnd.jupyter.widget-view+json": {
       "model_id": "e2c12cd0e9b04678bfec7b76a43bd578",
       "version_major": 2,
       "version_minor": 0
      },
      "text/plain": [
       "A Jupyter Widget"
      ]
     },
     "metadata": {},
     "output_type": "display_data"
    }
   ],
   "source": [
    "(defparameter matrix (make-instance 'sheet:cell\n",
    "                                    :row-start 0 :row-end 2\n",
    "                                    :column-start 0 :column-end 1\n",
    "                                    :squeeze-row nil :squeeze-column nil\n",
    "                                    :value `((1 2) (\"a\" \"b\") (2.23d3 6.4))))\n",
    "(defparameter column-vector (make-instance 'sheet:cell\n",
    "                                           :row-start 0 :row-end 2\n",
    "                                           :column-start 2 :column-end 2\n",
    "                                           :squeeze-row nil :squeeze-column nil\n",
    "                                           :value `((4) (5) (6))))\n",
    "(defparameter row-vector (make-instance 'sheet:cell\n",
    "                                        :row-start 3 :row-end 3\n",
    "                                        :column-start 0 :column-end 2\n",
    "                                        :squeeze-row nil :squeeze-column nil\n",
    "                                        :value `(7 8 9)))\n",
    "(defparameter s (make-instance 'sheet:sheet\n",
    "                               :rows 3 :columns 3\n",
    "                               :column-headers (list \"zaz\" \"zuh\")\n",
    "                               :cells (list matrix column-vector row-vector)))\n",
    "s"
   ]
  },
  {
   "cell_type": "code",
   "execution_count": 3,
   "metadata": {},
   "outputs": [
    {
     "data": {
      "text/plain": [
       "((1 2) (\"a\" \"b\") (2230.0d0 6.4))"
      ]
     },
     "execution_count": 3,
     "metadata": {},
     "output_type": "execute_result"
    }
   ],
   "source": [
    "(jupyter/widgets:widget-value c)"
   ]
  },
  {
   "cell_type": "code",
   "execution_count": null,
   "metadata": {},
   "outputs": [],
   "source": []
  }
 ],
 "metadata": {
  "kernelspec": {
   "display_name": "Common Lisp (clasp)",
   "language": "common-lisp",
   "name": "common-lisp_clasp"
  },
  "language_info": {
   "codemirror_mode": "text/x-common-lisp",
   "file_extension": ".lisp",
   "mimetype": "text/x-common-lisp",
   "name": "common-lisp",
   "pygments_lexer": "common-lisp",
   "version": "cclasp-boehm-0.4.2-3158-g8a33acbb0-cst"
  }
 },
 "nbformat": 4,
 "nbformat_minor": 4
}
