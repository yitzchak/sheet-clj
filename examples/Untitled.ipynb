{
 "cells": [
  {
   "cell_type": "code",
   "execution_count": 2,
   "metadata": {},
   "outputs": [
    {
     "name": "stdout",
     "output_type": "stream",
     "text": [
      "To load \"sheet-clj\":\n",
      "  Load 1 ASDF system:\n",
      "    sheet-clj\n"
     ]
    },
    {
     "data": {
      "text/plain": [
       "(:SHEET-CLJ)"
      ]
     },
     "execution_count": 2,
     "metadata": {},
     "output_type": "execute_result"
    },
    {
     "name": "stdout",
     "output_type": "stream",
     "text": [
      "\n",
      "; Loading \"sheet-clj\"\n",
      "\n"
     ]
    }
   ],
   "source": [
    "(ql:quickload :sheet-clj)"
   ]
  },
  {
   "cell_type": "code",
   "execution_count": 18,
   "metadata": {},
   "outputs": [
    {
     "data": {
      "application/vnd.jupyter.widget-view+json": {
       "model_id": "e6704741fec644bb5ccfdc63526d3e39",
       "version_major": 2,
       "version_minor": 0
      },
      "text/plain": [
       "A Jupyter Widget"
      ]
     },
     "metadata": {},
     "output_type": "display_data"
    }
   ],
   "source": [
    "(progn\n",
    "  (defparameter matrix (make-instance 'sheet:cell\n",
    "                                      :row-start 0 :row-end 2\n",
    "                                      :column-start 0 :column-end 1\n",
    "                                      :squeeze-row nil :squeeze-column nil\n",
    "                                      :value `((1 2) (\"a\" \"b\") (2.23d3 6.4))))\n",
    "  (defparameter column-vector (make-instance 'sheet:cell\n",
    "                                             :row-start 0 :row-end 2\n",
    "                                             :column-start 2 :column-end 2\n",
    "                                             :squeeze-row nil :squeeze-column t\n",
    "                                             :value `(\"c1\" \"c2\" \"c3\")))\n",
    "  (defparameter row-vector (make-instance 'sheet:cell\n",
    "                                          :row-start 3 :row-end 3\n",
    "                                          :column-start 0 :column-end 2\n",
    "                                          :squeeze-row t :squeeze-column nil\n",
    "                                          :value `(\"r1\" \"r2\" \"r3\")))\n",
    "  (defparameter c1 (make-instance 'sheet:cell\n",
    "                                  :row-start 4 :row-end 4\n",
    "                                  :column-start 0 :column-end 0\n",
    "                                  :value \"c1\"))\n",
    "  (defparameter c2 (make-instance 'sheet:cell\n",
    "                                  :row-start 4 :row-end 4\n",
    "                                  :column-start 1 :column-end 1\n",
    "                                  :value \"c2\"))\n",
    "  (defparameter s (make-instance 'sheet:sheet\n",
    "                                 :rows 5 :columns 3\n",
    "                                 :column-headers (list \"zaz\" \"zuh\")\n",
    "                                 :cells (list matrix column-vector row-vector c1)))\n",
    "  s)"
   ]
  },
  {
   "cell_type": "code",
   "execution_count": 3,
   "metadata": {},
   "outputs": [
    {
     "data": {
      "text/plain": [
       "((1 2) (\"a\" \"b\") (2230.0d0 6.4))"
      ]
     },
     "execution_count": 3,
     "metadata": {},
     "output_type": "execute_result"
    }
   ],
   "source": [
    "(jupyter-widgets:widget-value c)"
   ]
  },
  {
   "cell_type": "code",
   "execution_count": null,
   "metadata": {},
   "outputs": [],
   "source": []
  }
 ],
 "metadata": {
  "kernelspec": {
   "display_name": "Common Lisp (clasp)",
   "language": "common-lisp",
   "name": "common-lisp_clasp"
  },
  "language_info": {
   "codemirror_mode": "text/x-common-lisp",
   "file_extension": ".lisp",
   "mimetype": "text/x-common-lisp",
   "name": "common-lisp",
   "pygments_lexer": "common-lisp",
   "version": "cclasp-boehm-0.4.2-3158-g8a33acbb0-cst"
  }
 },
 "nbformat": 4,
 "nbformat_minor": 4
}
